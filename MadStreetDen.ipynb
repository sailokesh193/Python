{
 "cells": [
  {
   "cell_type": "code",
   "execution_count": 1,
   "metadata": {},
   "outputs": [
    {
     "name": "stderr",
     "output_type": "stream",
     "text": [
      "C:\\Users\\Sai\\Anaconda3\\lib\\site-packages\\sklearn\\cross_validation.py:41: DeprecationWarning: This module was deprecated in version 0.18 in favor of the model_selection module into which all the refactored classes and functions are moved. Also note that the interface of the new CV iterators are different from that of this module. This module will be removed in 0.20.\n",
      "  \"This module will be removed in 0.20.\", DeprecationWarning)\n"
     ]
    }
   ],
   "source": [
    "#data cleanming i have done using R language and building model using Python\n",
    "import numpy as np\n",
    "import pandas as pd\n",
    "import os\n",
    "from sklearn.multiclass import OneVsOneClassifier\n",
    "from sklearn.tree import DecisionTreeClassifier\n",
    "from sklearn.metrics import confusion_matrix\n",
    "from sklearn import preprocessing,cross_validation"
   ]
  },
  {
   "cell_type": "code",
   "execution_count": 2,
   "metadata": {
    "collapsed": true
   },
   "outputs": [],
   "source": [
    "os.chdir('G:\\downloads')\n",
    "df=pd.read_csv('intern1.csv')"
   ]
  },
  {
   "cell_type": "code",
   "execution_count": 3,
   "metadata": {},
   "outputs": [
    {
     "data": {
      "text/html": [
       "<div>\n",
       "<style>\n",
       "    .dataframe thead tr:only-child th {\n",
       "        text-align: right;\n",
       "    }\n",
       "\n",
       "    .dataframe thead th {\n",
       "        text-align: left;\n",
       "    }\n",
       "\n",
       "    .dataframe tbody tr th {\n",
       "        vertical-align: top;\n",
       "    }\n",
       "</style>\n",
       "<table border=\"1\" class=\"dataframe\">\n",
       "  <thead>\n",
       "    <tr style=\"text-align: right;\">\n",
       "      <th></th>\n",
       "      <th>Unnamed: 0</th>\n",
       "      <th>category</th>\n",
       "      <th>gender</th>\n",
       "      <th>sub_category</th>\n",
       "      <th>sub_sub_category</th>\n",
       "    </tr>\n",
       "  </thead>\n",
       "  <tbody>\n",
       "    <tr>\n",
       "      <th>0</th>\n",
       "      <td>2876</td>\n",
       "      <td>kids &amp; baby</td>\n",
       "      <td>baby &amp; toddler</td>\n",
       "      <td>baby</td>\n",
       "      <td>baby gear</td>\n",
       "    </tr>\n",
       "    <tr>\n",
       "      <th>1</th>\n",
       "      <td>7883</td>\n",
       "      <td>clothing</td>\n",
       "      <td>mens</td>\n",
       "      <td>sweaters</td>\n",
       "      <td>None</td>\n",
       "    </tr>\n",
       "    <tr>\n",
       "      <th>2</th>\n",
       "      <td>4089</td>\n",
       "      <td>sports &amp; outdoors</td>\n",
       "      <td>None</td>\n",
       "      <td>team shop</td>\n",
       "      <td>team clothing</td>\n",
       "    </tr>\n",
       "    <tr>\n",
       "      <th>3</th>\n",
       "      <td>8828</td>\n",
       "      <td>health &amp; beauty</td>\n",
       "      <td>womens</td>\n",
       "      <td>beauty</td>\n",
       "      <td>makeup &amp; fragrance</td>\n",
       "    </tr>\n",
       "    <tr>\n",
       "      <th>4</th>\n",
       "      <td>9401</td>\n",
       "      <td>clothing</td>\n",
       "      <td>mens</td>\n",
       "      <td>suits</td>\n",
       "      <td>suit separates</td>\n",
       "    </tr>\n",
       "  </tbody>\n",
       "</table>\n",
       "</div>"
      ],
      "text/plain": [
       "   Unnamed: 0           category          gender sub_category  \\\n",
       "0        2876        kids & baby  baby & toddler         baby   \n",
       "1        7883           clothing            mens     sweaters   \n",
       "2        4089  sports & outdoors            None    team shop   \n",
       "3        8828    health & beauty          womens       beauty   \n",
       "4        9401           clothing            mens        suits   \n",
       "\n",
       "     sub_sub_category  \n",
       "0           baby gear  \n",
       "1                None  \n",
       "2       team clothing  \n",
       "3  makeup & fragrance  \n",
       "4      suit separates  "
      ]
     },
     "execution_count": 3,
     "metadata": {},
     "output_type": "execute_result"
    }
   ],
   "source": [
    "df.head()"
   ]
  },
  {
   "cell_type": "code",
   "execution_count": 4,
   "metadata": {},
   "outputs": [
    {
     "data": {
      "text/html": [
       "<div>\n",
       "<style>\n",
       "    .dataframe thead tr:only-child th {\n",
       "        text-align: right;\n",
       "    }\n",
       "\n",
       "    .dataframe thead th {\n",
       "        text-align: left;\n",
       "    }\n",
       "\n",
       "    .dataframe tbody tr th {\n",
       "        vertical-align: top;\n",
       "    }\n",
       "</style>\n",
       "<table border=\"1\" class=\"dataframe\">\n",
       "  <thead>\n",
       "    <tr style=\"text-align: right;\">\n",
       "      <th></th>\n",
       "      <th>category</th>\n",
       "      <th>gender</th>\n",
       "      <th>sub_category</th>\n",
       "      <th>sub_sub_category</th>\n",
       "    </tr>\n",
       "  </thead>\n",
       "  <tbody>\n",
       "    <tr>\n",
       "      <th>0</th>\n",
       "      <td>kids &amp; baby</td>\n",
       "      <td>baby &amp; toddler</td>\n",
       "      <td>baby</td>\n",
       "      <td>baby gear</td>\n",
       "    </tr>\n",
       "    <tr>\n",
       "      <th>1</th>\n",
       "      <td>clothing</td>\n",
       "      <td>mens</td>\n",
       "      <td>sweaters</td>\n",
       "      <td>None</td>\n",
       "    </tr>\n",
       "    <tr>\n",
       "      <th>2</th>\n",
       "      <td>sports &amp; outdoors</td>\n",
       "      <td>None</td>\n",
       "      <td>team shop</td>\n",
       "      <td>team clothing</td>\n",
       "    </tr>\n",
       "    <tr>\n",
       "      <th>3</th>\n",
       "      <td>health &amp; beauty</td>\n",
       "      <td>womens</td>\n",
       "      <td>beauty</td>\n",
       "      <td>makeup &amp; fragrance</td>\n",
       "    </tr>\n",
       "    <tr>\n",
       "      <th>4</th>\n",
       "      <td>clothing</td>\n",
       "      <td>mens</td>\n",
       "      <td>suits</td>\n",
       "      <td>suit separates</td>\n",
       "    </tr>\n",
       "  </tbody>\n",
       "</table>\n",
       "</div>"
      ],
      "text/plain": [
       "            category          gender sub_category    sub_sub_category\n",
       "0        kids & baby  baby & toddler         baby           baby gear\n",
       "1           clothing            mens     sweaters                None\n",
       "2  sports & outdoors            None    team shop       team clothing\n",
       "3    health & beauty          womens       beauty  makeup & fragrance\n",
       "4           clothing            mens        suits      suit separates"
      ]
     },
     "execution_count": 4,
     "metadata": {},
     "output_type": "execute_result"
    }
   ],
   "source": [
    "df=df[['category','gender','sub_category','sub_sub_category']]\n",
    "df.head()"
   ]
  },
  {
   "cell_type": "code",
   "execution_count": 5,
   "metadata": {},
   "outputs": [
    {
     "data": {
      "text/plain": [
       "(7000, 4)"
      ]
     },
     "execution_count": 5,
     "metadata": {},
     "output_type": "execute_result"
    }
   ],
   "source": [
    "df.shape"
   ]
  },
  {
   "cell_type": "code",
   "execution_count": 6,
   "metadata": {},
   "outputs": [
    {
     "data": {
      "text/plain": [
       "sports & outdoors         2612\n",
       "clothing                  1557\n",
       "accessories                417\n",
       "shoes                      367\n",
       "kids & baby                237\n",
       "home & pet                 196\n",
       "health & beauty            102\n",
       "electronics                 75\n",
       "automotive                  31\n",
       "toys & games                27\n",
       "books, movies & music        5\n",
       "flowers & food gifting       2\n",
       "Name: category, dtype: int64"
      ]
     },
     "execution_count": 6,
     "metadata": {},
     "output_type": "execute_result"
    }
   ],
   "source": [
    "df.category.value_counts()"
   ]
  },
  {
   "cell_type": "code",
   "execution_count": 7,
   "metadata": {},
   "outputs": [
    {
     "data": {
      "text/html": [
       "<div>\n",
       "<style>\n",
       "    .dataframe thead tr:only-child th {\n",
       "        text-align: right;\n",
       "    }\n",
       "\n",
       "    .dataframe thead th {\n",
       "        text-align: left;\n",
       "    }\n",
       "\n",
       "    .dataframe tbody tr th {\n",
       "        vertical-align: top;\n",
       "    }\n",
       "</style>\n",
       "<table border=\"1\" class=\"dataframe\">\n",
       "  <thead>\n",
       "    <tr style=\"text-align: right;\">\n",
       "      <th></th>\n",
       "      <th>category</th>\n",
       "      <th>gender</th>\n",
       "      <th>sub_category</th>\n",
       "      <th>sub_sub_category</th>\n",
       "      <th>category_num</th>\n",
       "    </tr>\n",
       "  </thead>\n",
       "  <tbody>\n",
       "    <tr>\n",
       "      <th>0</th>\n",
       "      <td>kids &amp; baby</td>\n",
       "      <td>baby &amp; toddler</td>\n",
       "      <td>baby</td>\n",
       "      <td>baby gear</td>\n",
       "      <td>5.0</td>\n",
       "    </tr>\n",
       "    <tr>\n",
       "      <th>1</th>\n",
       "      <td>clothing</td>\n",
       "      <td>mens</td>\n",
       "      <td>sweaters</td>\n",
       "      <td>None</td>\n",
       "      <td>2.0</td>\n",
       "    </tr>\n",
       "    <tr>\n",
       "      <th>2</th>\n",
       "      <td>sports &amp; outdoors</td>\n",
       "      <td>None</td>\n",
       "      <td>team shop</td>\n",
       "      <td>team clothing</td>\n",
       "      <td>1.0</td>\n",
       "    </tr>\n",
       "    <tr>\n",
       "      <th>3</th>\n",
       "      <td>health &amp; beauty</td>\n",
       "      <td>womens</td>\n",
       "      <td>beauty</td>\n",
       "      <td>makeup &amp; fragrance</td>\n",
       "      <td>7.0</td>\n",
       "    </tr>\n",
       "    <tr>\n",
       "      <th>4</th>\n",
       "      <td>clothing</td>\n",
       "      <td>mens</td>\n",
       "      <td>suits</td>\n",
       "      <td>suit separates</td>\n",
       "      <td>2.0</td>\n",
       "    </tr>\n",
       "  </tbody>\n",
       "</table>\n",
       "</div>"
      ],
      "text/plain": [
       "            category          gender sub_category    sub_sub_category  \\\n",
       "0        kids & baby  baby & toddler         baby           baby gear   \n",
       "1           clothing            mens     sweaters                None   \n",
       "2  sports & outdoors            None    team shop       team clothing   \n",
       "3    health & beauty          womens       beauty  makeup & fragrance   \n",
       "4           clothing            mens        suits      suit separates   \n",
       "\n",
       "   category_num  \n",
       "0           5.0  \n",
       "1           2.0  \n",
       "2           1.0  \n",
       "3           7.0  \n",
       "4           2.0  "
      ]
     },
     "execution_count": 7,
     "metadata": {},
     "output_type": "execute_result"
    }
   ],
   "source": [
    "#converting  category to numeric\n",
    "df['category_num']=df.category.map({'sports & outdoors':1,'clothing':2,'accessories':3,'shoes':4,'kids & baby':5,'home & pet':6,'health & beauty':7,'electronics':8,'automotive':9,'toys & games':10,'books, movies & music':11,'flowers & food gifting':12})\n",
    "df.head()"
   ]
  },
  {
   "cell_type": "code",
   "execution_count": 8,
   "metadata": {},
   "outputs": [
    {
     "data": {
      "text/plain": [
       "unisex            2836\n",
       "womens            1551\n",
       "None              1253\n",
       "mens               659\n",
       "baby & toddler     151\n",
       "plus size           88\n",
       "girls               78\n",
       "boys                52\n",
       "kids                32\n",
       "baby girls          13\n",
       "baby boys           11\n",
       "Name: gender, dtype: int64"
      ]
     },
     "execution_count": 8,
     "metadata": {},
     "output_type": "execute_result"
    }
   ],
   "source": [
    "df.gender.value_counts()"
   ]
  },
  {
   "cell_type": "code",
   "execution_count": 9,
   "metadata": {},
   "outputs": [
    {
     "data": {
      "text/plain": [
       "(89,)"
      ]
     },
     "execution_count": 9,
     "metadata": {},
     "output_type": "execute_result"
    }
   ],
   "source": [
    "df['gender_num']=df.gender.map({'unisex':1,'womens':2,'None':3,'mens':4,'baby & toddler':5,'plus size':6,'girls':7,'boys':8,'kids':9,'baby girls':10,'baby boys':11})\n",
    "x=df.sub_category.unique()\n",
    "x.shape"
   ]
  },
  {
   "cell_type": "code",
   "execution_count": 10,
   "metadata": {
    "collapsed": true
   },
   "outputs": [],
   "source": [
    "#here i am creating labels for sub_category\n",
    "x\n",
    "df['sub_category_num']=df.sub_category.map({k: v for v, k in enumerate(x,1)})"
   ]
  },
  {
   "cell_type": "code",
   "execution_count": 11,
   "metadata": {
    "collapsed": true
   },
   "outputs": [],
   "source": [
    "y=df.sub_sub_category.unique()"
   ]
  },
  {
   "cell_type": "code",
   "execution_count": 12,
   "metadata": {},
   "outputs": [
    {
     "data": {
      "text/html": [
       "<div>\n",
       "<style>\n",
       "    .dataframe thead tr:only-child th {\n",
       "        text-align: right;\n",
       "    }\n",
       "\n",
       "    .dataframe thead th {\n",
       "        text-align: left;\n",
       "    }\n",
       "\n",
       "    .dataframe tbody tr th {\n",
       "        vertical-align: top;\n",
       "    }\n",
       "</style>\n",
       "<table border=\"1\" class=\"dataframe\">\n",
       "  <thead>\n",
       "    <tr style=\"text-align: right;\">\n",
       "      <th></th>\n",
       "      <th>category</th>\n",
       "      <th>gender</th>\n",
       "      <th>sub_category</th>\n",
       "      <th>sub_sub_category</th>\n",
       "      <th>category_num</th>\n",
       "      <th>gender_num</th>\n",
       "      <th>sub_category_num</th>\n",
       "      <th>sub_sub_category_num</th>\n",
       "    </tr>\n",
       "  </thead>\n",
       "  <tbody>\n",
       "    <tr>\n",
       "      <th>0</th>\n",
       "      <td>kids &amp; baby</td>\n",
       "      <td>baby &amp; toddler</td>\n",
       "      <td>baby</td>\n",
       "      <td>baby gear</td>\n",
       "      <td>5.0</td>\n",
       "      <td>5.0</td>\n",
       "      <td>1</td>\n",
       "      <td>1</td>\n",
       "    </tr>\n",
       "    <tr>\n",
       "      <th>1</th>\n",
       "      <td>clothing</td>\n",
       "      <td>mens</td>\n",
       "      <td>sweaters</td>\n",
       "      <td>None</td>\n",
       "      <td>2.0</td>\n",
       "      <td>4.0</td>\n",
       "      <td>2</td>\n",
       "      <td>2</td>\n",
       "    </tr>\n",
       "    <tr>\n",
       "      <th>2</th>\n",
       "      <td>sports &amp; outdoors</td>\n",
       "      <td>None</td>\n",
       "      <td>team shop</td>\n",
       "      <td>team clothing</td>\n",
       "      <td>1.0</td>\n",
       "      <td>3.0</td>\n",
       "      <td>3</td>\n",
       "      <td>3</td>\n",
       "    </tr>\n",
       "    <tr>\n",
       "      <th>3</th>\n",
       "      <td>health &amp; beauty</td>\n",
       "      <td>womens</td>\n",
       "      <td>beauty</td>\n",
       "      <td>makeup &amp; fragrance</td>\n",
       "      <td>7.0</td>\n",
       "      <td>2.0</td>\n",
       "      <td>4</td>\n",
       "      <td>4</td>\n",
       "    </tr>\n",
       "    <tr>\n",
       "      <th>4</th>\n",
       "      <td>clothing</td>\n",
       "      <td>mens</td>\n",
       "      <td>suits</td>\n",
       "      <td>suit separates</td>\n",
       "      <td>2.0</td>\n",
       "      <td>4.0</td>\n",
       "      <td>5</td>\n",
       "      <td>5</td>\n",
       "    </tr>\n",
       "    <tr>\n",
       "      <th>5</th>\n",
       "      <td>sports &amp; outdoors</td>\n",
       "      <td>unisex</td>\n",
       "      <td>team shop</td>\n",
       "      <td>team clothing</td>\n",
       "      <td>1.0</td>\n",
       "      <td>1.0</td>\n",
       "      <td>3</td>\n",
       "      <td>3</td>\n",
       "    </tr>\n",
       "    <tr>\n",
       "      <th>6</th>\n",
       "      <td>clothing</td>\n",
       "      <td>womens</td>\n",
       "      <td>tops</td>\n",
       "      <td>None</td>\n",
       "      <td>2.0</td>\n",
       "      <td>2.0</td>\n",
       "      <td>6</td>\n",
       "      <td>2</td>\n",
       "    </tr>\n",
       "    <tr>\n",
       "      <th>7</th>\n",
       "      <td>sports &amp; outdoors</td>\n",
       "      <td>None</td>\n",
       "      <td>team shop</td>\n",
       "      <td>None</td>\n",
       "      <td>1.0</td>\n",
       "      <td>3.0</td>\n",
       "      <td>3</td>\n",
       "      <td>2</td>\n",
       "    </tr>\n",
       "    <tr>\n",
       "      <th>8</th>\n",
       "      <td>sports &amp; outdoors</td>\n",
       "      <td>None</td>\n",
       "      <td>team shop</td>\n",
       "      <td>team clothing</td>\n",
       "      <td>1.0</td>\n",
       "      <td>3.0</td>\n",
       "      <td>3</td>\n",
       "      <td>3</td>\n",
       "    </tr>\n",
       "    <tr>\n",
       "      <th>9</th>\n",
       "      <td>sports &amp; outdoors</td>\n",
       "      <td>unisex</td>\n",
       "      <td>team shop</td>\n",
       "      <td>team clothing</td>\n",
       "      <td>1.0</td>\n",
       "      <td>1.0</td>\n",
       "      <td>3</td>\n",
       "      <td>3</td>\n",
       "    </tr>\n",
       "  </tbody>\n",
       "</table>\n",
       "</div>"
      ],
      "text/plain": [
       "            category          gender sub_category    sub_sub_category  \\\n",
       "0        kids & baby  baby & toddler         baby           baby gear   \n",
       "1           clothing            mens     sweaters                None   \n",
       "2  sports & outdoors            None    team shop       team clothing   \n",
       "3    health & beauty          womens       beauty  makeup & fragrance   \n",
       "4           clothing            mens        suits      suit separates   \n",
       "5  sports & outdoors          unisex    team shop       team clothing   \n",
       "6           clothing          womens         tops                None   \n",
       "7  sports & outdoors            None    team shop                None   \n",
       "8  sports & outdoors            None    team shop       team clothing   \n",
       "9  sports & outdoors          unisex    team shop       team clothing   \n",
       "\n",
       "   category_num  gender_num  sub_category_num  sub_sub_category_num  \n",
       "0           5.0         5.0                 1                     1  \n",
       "1           2.0         4.0                 2                     2  \n",
       "2           1.0         3.0                 3                     3  \n",
       "3           7.0         2.0                 4                     4  \n",
       "4           2.0         4.0                 5                     5  \n",
       "5           1.0         1.0                 3                     3  \n",
       "6           2.0         2.0                 6                     2  \n",
       "7           1.0         3.0                 3                     2  \n",
       "8           1.0         3.0                 3                     3  \n",
       "9           1.0         1.0                 3                     3  "
      ]
     },
     "execution_count": 12,
     "metadata": {},
     "output_type": "execute_result"
    }
   ],
   "source": [
    "#here i am creating labels for sub_sub_category\n",
    "y\n",
    "df['sub_sub_category_num']=df.sub_sub_category.map({k: v for v, k in enumerate(y,1)})\n",
    "df.head(10)"
   ]
  },
  {
   "cell_type": "code",
   "execution_count": 13,
   "metadata": {},
   "outputs": [
    {
     "data": {
      "text/html": [
       "<div>\n",
       "<style>\n",
       "    .dataframe thead tr:only-child th {\n",
       "        text-align: right;\n",
       "    }\n",
       "\n",
       "    .dataframe thead th {\n",
       "        text-align: left;\n",
       "    }\n",
       "\n",
       "    .dataframe tbody tr th {\n",
       "        vertical-align: top;\n",
       "    }\n",
       "</style>\n",
       "<table border=\"1\" class=\"dataframe\">\n",
       "  <thead>\n",
       "    <tr style=\"text-align: right;\">\n",
       "      <th></th>\n",
       "      <th>category</th>\n",
       "      <th>gender</th>\n",
       "      <th>sub_category</th>\n",
       "      <th>sub_sub_category</th>\n",
       "      <th>category_num</th>\n",
       "      <th>gender_num</th>\n",
       "      <th>sub_category_num</th>\n",
       "      <th>sub_sub_category_num</th>\n",
       "    </tr>\n",
       "  </thead>\n",
       "  <tbody>\n",
       "    <tr>\n",
       "      <th>0</th>\n",
       "      <td>kids &amp; baby</td>\n",
       "      <td>baby &amp; toddler</td>\n",
       "      <td>baby</td>\n",
       "      <td>baby gear</td>\n",
       "      <td>5.0</td>\n",
       "      <td>5.0</td>\n",
       "      <td>1.0</td>\n",
       "      <td>1.0</td>\n",
       "    </tr>\n",
       "    <tr>\n",
       "      <th>1</th>\n",
       "      <td>clothing</td>\n",
       "      <td>mens</td>\n",
       "      <td>sweaters</td>\n",
       "      <td>None</td>\n",
       "      <td>2.0</td>\n",
       "      <td>4.0</td>\n",
       "      <td>2.0</td>\n",
       "      <td>2.0</td>\n",
       "    </tr>\n",
       "    <tr>\n",
       "      <th>2</th>\n",
       "      <td>sports &amp; outdoors</td>\n",
       "      <td>None</td>\n",
       "      <td>team shop</td>\n",
       "      <td>team clothing</td>\n",
       "      <td>1.0</td>\n",
       "      <td>3.0</td>\n",
       "      <td>3.0</td>\n",
       "      <td>3.0</td>\n",
       "    </tr>\n",
       "    <tr>\n",
       "      <th>3</th>\n",
       "      <td>health &amp; beauty</td>\n",
       "      <td>womens</td>\n",
       "      <td>beauty</td>\n",
       "      <td>makeup &amp; fragrance</td>\n",
       "      <td>7.0</td>\n",
       "      <td>2.0</td>\n",
       "      <td>4.0</td>\n",
       "      <td>4.0</td>\n",
       "    </tr>\n",
       "    <tr>\n",
       "      <th>4</th>\n",
       "      <td>clothing</td>\n",
       "      <td>mens</td>\n",
       "      <td>suits</td>\n",
       "      <td>suit separates</td>\n",
       "      <td>2.0</td>\n",
       "      <td>4.0</td>\n",
       "      <td>5.0</td>\n",
       "      <td>5.0</td>\n",
       "    </tr>\n",
       "  </tbody>\n",
       "</table>\n",
       "</div>"
      ],
      "text/plain": [
       "            category          gender sub_category    sub_sub_category  \\\n",
       "0        kids & baby  baby & toddler         baby           baby gear   \n",
       "1           clothing            mens     sweaters                None   \n",
       "2  sports & outdoors            None    team shop       team clothing   \n",
       "3    health & beauty          womens       beauty  makeup & fragrance   \n",
       "4           clothing            mens        suits      suit separates   \n",
       "\n",
       "   category_num  gender_num  sub_category_num  sub_sub_category_num  \n",
       "0           5.0         5.0               1.0                   1.0  \n",
       "1           2.0         4.0               2.0                   2.0  \n",
       "2           1.0         3.0               3.0                   3.0  \n",
       "3           7.0         2.0               4.0                   4.0  \n",
       "4           2.0         4.0               5.0                   5.0  "
      ]
     },
     "execution_count": 13,
     "metadata": {},
     "output_type": "execute_result"
    }
   ],
   "source": [
    "#converting the above columns into float type\n",
    "df['sub_category_num'] = df['sub_category_num'].astype('float64')\n",
    "df['sub_sub_category_num'] = df['sub_sub_category_num'].astype('float64')\n",
    "df.head(5)"
   ]
  },
  {
   "cell_type": "code",
   "execution_count": 14,
   "metadata": {
    "collapsed": true
   },
   "outputs": [],
   "source": [
    "df1=df[['category_num','gender_num','sub_category_num','sub_sub_category_num']]\n",
    "df1.head(60)\n",
    "df2=df1[~df1.isnull().any(1)]"
   ]
  },
  {
   "cell_type": "code",
   "execution_count": 15,
   "metadata": {
    "collapsed": true
   },
   "outputs": [],
   "source": [
    "#here iam seperating dependent and independent variables\n",
    "b=np.array(df2.drop(['gender_num'],1)) "
   ]
  },
  {
   "cell_type": "code",
   "execution_count": 16,
   "metadata": {
    "collapsed": true
   },
   "outputs": [],
   "source": [
    "#i used factorize because there are more than 1 features and converting into 2d array\n",
    "c=pd.factorize(df2['gender_num'].values)[0].reshape(-1,1)"
   ]
  },
  {
   "cell_type": "code",
   "execution_count": 17,
   "metadata": {
    "collapsed": true
   },
   "outputs": [],
   "source": [
    "b_train, b_test, c_train, c_test=cross_validation.train_test_split(b,c,test_size=0.2,random_state=42)"
   ]
  },
  {
   "cell_type": "code",
   "execution_count": 18,
   "metadata": {
    "collapsed": true
   },
   "outputs": [],
   "source": [
    "#As this is multi class \n",
    "clf_tree = DecisionTreeClassifier(max_depth = 2).fit(b_train, c_train)\n",
    "predictions = clf_tree.predict(b_test)"
   ]
  },
  {
   "cell_type": "code",
   "execution_count": 19,
   "metadata": {
    "collapsed": true
   },
   "outputs": [],
   "source": [
    "accuracy=clf_tree.score(b_test,c_test)"
   ]
  },
  {
   "cell_type": "code",
   "execution_count": 20,
   "metadata": {},
   "outputs": [
    {
     "data": {
      "text/plain": [
       "0.60657193605683835"
      ]
     },
     "execution_count": 20,
     "metadata": {},
     "output_type": "execute_result"
    }
   ],
   "source": [
    "accuracy"
   ]
  },
  {
   "cell_type": "code",
   "execution_count": 21,
   "metadata": {
    "collapsed": true
   },
   "outputs": [],
   "source": [
    "#confusion matrix\n",
    "cm = confusion_matrix(c_test,predictions)"
   ]
  },
  {
   "cell_type": "code",
   "execution_count": 22,
   "metadata": {},
   "outputs": [
    {
     "data": {
      "text/plain": [
       "array([[  0,   0,   0,  28,   8,   0,   0,   0,   0,   0,   0],\n",
       "       [  0,   0,   0, 139,   0,   0,   0,   0,   0,   0,   0],\n",
       "       [  0,   0,   0,  25, 107,   0,   0,   0,   0,   0,   0],\n",
       "       [  0,   0,   0, 287,   1,   0,   0,   0,   0,   0,   0],\n",
       "       [  0,   0,   0,  79, 396,   0,   0,   0,   0,   0,   0],\n",
       "       [  0,   0,   0,   5,   3,   0,   0,   0,   0,   0,   0],\n",
       "       [  0,   0,   0,  20,   0,   0,   0,   0,   0,   0,   0],\n",
       "       [  0,   0,   0,  12,   0,   0,   0,   0,   0,   0,   0],\n",
       "       [  0,   0,   0,  11,   0,   0,   0,   0,   0,   0,   0],\n",
       "       [  0,   0,   0,   2,   0,   0,   0,   0,   0,   0,   0],\n",
       "       [  0,   0,   0,   3,   0,   0,   0,   0,   0,   0,   0]], dtype=int64)"
      ]
     },
     "execution_count": 22,
     "metadata": {},
     "output_type": "execute_result"
    }
   ],
   "source": [
    "cm"
   ]
  },
  {
   "cell_type": "code",
   "execution_count": 23,
   "metadata": {
    "collapsed": true
   },
   "outputs": [],
   "source": [
    "#test data \n",
    "df12=pd.read_csv('Book1.csv')"
   ]
  },
  {
   "cell_type": "code",
   "execution_count": 24,
   "metadata": {},
   "outputs": [
    {
     "data": {
      "text/plain": [
       "array([3, 3, 4, 3, 3], dtype=int64)"
      ]
     },
     "execution_count": 24,
     "metadata": {},
     "output_type": "execute_result"
    }
   ],
   "source": [
    "clf_tree.predict(df12)"
   ]
  },
  {
   "cell_type": "code",
   "execution_count": 25,
   "metadata": {
    "collapsed": true
   },
   "outputs": [],
   "source": [
    "from sklearn.multiclass import OneVsOneClassifier\n",
    "from sklearn.svm import LinearSVC\n",
    "from sklearn.metrics import confusion_matrix"
   ]
  },
  {
   "cell_type": "code",
   "execution_count": 26,
   "metadata": {
    "collapsed": true
   },
   "outputs": [],
   "source": [
    "clf4 = LinearSVC(random_state=0)"
   ]
  },
  {
   "cell_type": "code",
   "execution_count": 27,
   "metadata": {},
   "outputs": [
    {
     "name": "stderr",
     "output_type": "stream",
     "text": [
      "C:\\Users\\Sai\\Anaconda3\\lib\\site-packages\\sklearn\\utils\\validation.py:578: DataConversionWarning: A column-vector y was passed when a 1d array was expected. Please change the shape of y to (n_samples, ), for example using ravel().\n",
      "  y = column_or_1d(y, warn=True)\n"
     ]
    },
    {
     "data": {
      "text/plain": [
       "LinearSVC(C=1.0, class_weight=None, dual=True, fit_intercept=True,\n",
       "     intercept_scaling=1, loss='squared_hinge', max_iter=1000,\n",
       "     multi_class='ovr', penalty='l2', random_state=0, tol=0.0001,\n",
       "     verbose=0)"
      ]
     },
     "execution_count": 27,
     "metadata": {},
     "output_type": "execute_result"
    }
   ],
   "source": [
    "clf4.fit(b_train, c_train)"
   ]
  },
  {
   "cell_type": "code",
   "execution_count": 28,
   "metadata": {
    "collapsed": true
   },
   "outputs": [],
   "source": [
    "predictions = clf4.predict(b_test)"
   ]
  },
  {
   "cell_type": "code",
   "execution_count": 29,
   "metadata": {
    "collapsed": true
   },
   "outputs": [],
   "source": [
    "accuracy=clf4.score(b_test,c_test)"
   ]
  },
  {
   "cell_type": "code",
   "execution_count": 30,
   "metadata": {},
   "outputs": [
    {
     "data": {
      "text/plain": [
       "0.46003552397868563"
      ]
     },
     "execution_count": 30,
     "metadata": {},
     "output_type": "execute_result"
    }
   ],
   "source": [
    "accuracy"
   ]
  },
  {
   "cell_type": "code",
   "execution_count": 31,
   "metadata": {
    "collapsed": true
   },
   "outputs": [],
   "source": [
    "# training a DescisionTreeClassifier\n",
    "from sklearn.tree import DecisionTreeClassifier\n",
    "clf_tree = DecisionTreeClassifier(max_depth = 2).fit(b_train, c_train)\n",
    "predictions = clf_tree.predict(b_test)"
   ]
  },
  {
   "cell_type": "code",
   "execution_count": 32,
   "metadata": {
    "collapsed": true
   },
   "outputs": [],
   "source": [
    "accuracy=clf_tree.score(b_test,c_test)"
   ]
  },
  {
   "cell_type": "code",
   "execution_count": 33,
   "metadata": {},
   "outputs": [
    {
     "data": {
      "text/plain": [
       "0.60657193605683835"
      ]
     },
     "execution_count": 33,
     "metadata": {},
     "output_type": "execute_result"
    }
   ],
   "source": [
    "accuracy"
   ]
  },
  {
   "cell_type": "code",
   "execution_count": 34,
   "metadata": {
    "collapsed": true
   },
   "outputs": [],
   "source": [
    "from sklearn.ensemble import GradientBoostingClassifier"
   ]
  },
  {
   "cell_type": "code",
   "execution_count": 35,
   "metadata": {
    "collapsed": true
   },
   "outputs": [],
   "source": [
    "clf=GradientBoostingClassifier()"
   ]
  },
  {
   "cell_type": "code",
   "execution_count": 36,
   "metadata": {},
   "outputs": [
    {
     "name": "stderr",
     "output_type": "stream",
     "text": [
      "C:\\Users\\Sai\\Anaconda3\\lib\\site-packages\\sklearn\\utils\\validation.py:578: DataConversionWarning: A column-vector y was passed when a 1d array was expected. Please change the shape of y to (n_samples, ), for example using ravel().\n",
      "  y = column_or_1d(y, warn=True)\n"
     ]
    },
    {
     "data": {
      "text/plain": [
       "GradientBoostingClassifier(criterion='friedman_mse', init=None,\n",
       "              learning_rate=0.1, loss='deviance', max_depth=3,\n",
       "              max_features=None, max_leaf_nodes=None,\n",
       "              min_impurity_decrease=0.0, min_impurity_split=None,\n",
       "              min_samples_leaf=1, min_samples_split=2,\n",
       "              min_weight_fraction_leaf=0.0, n_estimators=100,\n",
       "              presort='auto', random_state=None, subsample=1.0, verbose=0,\n",
       "              warm_start=False)"
      ]
     },
     "execution_count": 36,
     "metadata": {},
     "output_type": "execute_result"
    }
   ],
   "source": [
    "clf.fit(b_train,c_train)"
   ]
  },
  {
   "cell_type": "code",
   "execution_count": 37,
   "metadata": {
    "collapsed": true
   },
   "outputs": [],
   "source": [
    "accuracy=clf.score(b_test,c_test)"
   ]
  },
  {
   "cell_type": "code",
   "execution_count": 38,
   "metadata": {},
   "outputs": [
    {
     "data": {
      "text/plain": [
       "0.71847246891651861"
      ]
     },
     "execution_count": 38,
     "metadata": {},
     "output_type": "execute_result"
    }
   ],
   "source": [
    "accuracy"
   ]
  },
  {
   "cell_type": "code",
   "execution_count": null,
   "metadata": {
    "collapsed": true
   },
   "outputs": [],
   "source": []
  }
 ],
 "metadata": {
  "kernelspec": {
   "display_name": "Python 3",
   "language": "python",
   "name": "python3"
  },
  "language_info": {
   "codemirror_mode": {
    "name": "ipython",
    "version": 3
   },
   "file_extension": ".py",
   "mimetype": "text/x-python",
   "name": "python",
   "nbconvert_exporter": "python",
   "pygments_lexer": "ipython3",
   "version": "3.6.3"
  }
 },
 "nbformat": 4,
 "nbformat_minor": 2
}
